{
 "cells": [
  {
   "cell_type": "code",
   "execution_count": 1,
   "metadata": {},
   "outputs": [],
   "source": [
    "import pretty_midi as pm\n",
    "import numpy as np\n",
    "\n",
    "# For plotting\n",
    "import librosa.display\n",
    "import matplotlib.pyplot as plt\n",
    "%matplotlib inline\n",
    "\n",
    "# For putting audio in the notebook\n",
    "import IPython.display"
   ]
  },
  {
   "cell_type": "code",
   "execution_count": 2,
   "metadata": {},
   "outputs": [],
   "source": [
    "def plot_piano_roll(md, start_pitch, end_pitch, fs=100):\n",
    "    # Use librosa's specshow function for displaying the piano roll\n",
    "    librosa.display.specshow(md.get_piano_roll(fs)[start_pitch:end_pitch],\n",
    "                             hop_length=1, sr=fs, x_axis='time', y_axis='cqt_note',\n",
    "                             fmin=pm.note_number_to_hz(start_pitch))"
   ]
  },
  {
   "cell_type": "code",
   "execution_count": 3,
   "metadata": {
    "scrolled": true
   },
   "outputs": [
    {
     "name": "stderr",
     "output_type": "stream",
     "text": [
      "pretty_midi.py:101: RuntimeWarning: Tempo, Key or Time signature change events found on non-zero tracks.  This is not a valid type 0 or type 1 MIDI file.  Tempo, Key or Time Signature may be wrong.\n",
      "  RuntimeWarning)\n"
     ]
    },
    {
     "data": {
      "text/plain": [
       "[Instrument(program=0, is_drum=False, name=\"1st Mvmt Sonata No.14, Opus 27, No.2\"),\n",
       " Instrument(program=0, is_drum=False, name=\"Sonata Quasi Una Fantasia (\\\"Moonlight\\\" Sonata)\")]"
      ]
     },
     "execution_count": 3,
     "metadata": {},
     "output_type": "execute_result"
    }
   ],
   "source": [
    "# Load MIDI file into PrettyMIDI object\n",
    "# midi_data = pm.PrettyMIDI('Fur Elise.mid')\n",
    "# midi_data = pm.PrettyMIDI('Rondo.mid')\n",
    "midi_data = pm.PrettyMIDI('Moonlight Sonata.mid')\n",
    "midi_data.instruments"
   ]
  },
  {
   "cell_type": "code",
   "execution_count": null,
   "metadata": {
    "scrolled": true
   },
   "outputs": [],
   "source": [
    "# Print an empirical estimate of its global tempo\n",
    "print(\"Estimated Tempo:\", midi_data.estimate_tempo())\n",
    "\n",
    "# Compute the relative amount of each semitone across the entire song, a proxy for key\n",
    "total_velocity = sum(sum(midi_data.get_chroma()))\n",
    "print([sum(semitone)/total_velocity for semitone in midi_data.get_chroma()])\n",
    "\n",
    "print(\"Tempos:\", midi_data.get_tempo_changes())\n",
    "\n",
    "# Shift all notes up by 5 semitones\n",
    "# for instrument in midi_data.instruments:\n",
    "#     # Don't want to shift drum notes\n",
    "#     if not instrument.is_drum:\n",
    "#         for note in instrument.notes:\n",
    "#             note.pitch += 5\n",
    "# Synthesize the resulting MIDI data using sine waves\n",
    "# audio_data = midi_data.synthesize()"
   ]
  },
  {
   "cell_type": "code",
   "execution_count": null,
   "metadata": {},
   "outputs": [],
   "source": [
    "print([len(instrument.notes) for instrument in midi_data.instruments])\n",
    "midi_data.remove_invalid_notes()\n",
    "print([len(instrument.notes) for instrument in midi_data.instruments])\n",
    "\n",
    "# minimum = 999\n",
    "# maximum = -1\n",
    "all_notes = []\n",
    "for instrument in midi_data.instruments:\n",
    "    notes = []\n",
    "    for note in instrument.notes:\n",
    "        notes.append(note.pitch)\n",
    "    all_notes.append(notes)\n",
    "#         if note.pitch > maximum: maximum = note.pitch\n",
    "\n",
    "inst = midi_data.instruments[0]\n",
    "print(inst)\n",
    "print(\"*\"*20)\n",
    "for note in inst.notes[:9]:\n",
    "    print(\"{note}: {start}->{end}\".format(note=pm.note_number_to_name(note.pitch), \n",
    "                                          start=midi_data.time_to_tick(note.start), \n",
    "                                          end=midi_data.time_to_tick(note.end)))\n",
    "    print(note)\n",
    "    print(\"=\"*10)\n",
    "#     n = note\n",
    "print(len(all_notes))"
   ]
  },
  {
   "cell_type": "code",
   "execution_count": 6,
   "metadata": {},
   "outputs": [
    {
     "name": "stdout",
     "output_type": "stream",
     "text": [
      "[57, 58, 59, 60, 61, 62, 63, 64, 65, 66, 67, 68, 69, 70, 71, 72, 73, 74, 75, 76, 78, 79, 80, 81, 82, 84, 87]\n",
      "[29, 30, 31, 32, 33, 34, 35, 36, 37, 38, 39, 40, 41, 42, 43, 44, 45, 46, 47, 48, 49, 50, 51, 52, 53, 54, 55, 56]\n",
      "====================\n",
      "Track 0 Min: 57\n",
      "Track 0 Max: 87\n",
      "Track 1 Min: 29\n",
      "Track 1 Max: 56\n"
     ]
    }
   ],
   "source": [
    "print(list(set(all_notes[0])))\n",
    "print(list(set(all_notes[1])))\n",
    "print(\"=\"*20)\n",
    "# The track with the range that goes towards the highest notes is probably the melody (right hand)\n",
    "# so we could take the highest max?\n",
    "for idx, track in enumerate(all_notes):\n",
    "    print(\"Track {idx} Min: {calc}\".format(idx=idx, calc=min(track)))\n",
    "    print(\"Track {idx} Max: {calc}\".format(idx=idx, calc=max(track)))"
   ]
  },
  {
   "cell_type": "code",
   "execution_count": 7,
   "metadata": {},
   "outputs": [
    {
     "name": "stderr",
     "output_type": "stream",
     "text": [
      "librosa\\display.py:1155: UserWarning: Frequency axis exceeds Nyquist. Did you remember to set all spectrogram parameters in specshow?\n",
      "  \"Frequency axis exceeds Nyquist. \"\n"
     ]
    },
    {
     "data": {
      "image/png": "[encoded data removed]",
      "text/plain": [
       "<Figure size 1296x504 with 1 Axes>"
      ]
     },
     "metadata": {
      "needs_background": "light"
     },
     "output_type": "display_data"
    }
   ],
   "source": [
    "plt.figure(figsize=(18, 7))\n",
    "plot_piano_roll(midi_data, 21, 108)"
   ]
  },
  {
   "cell_type": "code",
   "execution_count": null,
   "metadata": {},
   "outputs": [],
   "source": [
    "# Synthesis frequency\n",
    "# sampling_rate = 16000\n",
    "sampling_rate = 44100\n",
    "IPython.display.Audio(midi_data.synthesize(fs=sampling_rate), rate=sampling_rate)"
   ]
  },
  {
   "cell_type": "code",
   "execution_count": 9,
   "metadata": {},
   "outputs": [],
   "source": [
    "# midi_data.write('out.mid')"
   ]
  },
  {
   "cell_type": "code",
   "execution_count": 10,
   "metadata": {},
   "outputs": [
    {
     "name": "stdout",
     "output_type": "stream",
     "text": [
      "There are 1 time signature changes\n",
      "There are 2 instruments\n",
      "Instrument 0 (1st Mvmt Sonata No.14, Opus 27, No.2) has 722 notes\n"
     ]
    }
   ],
   "source": [
    "print('There are {} time signature changes'.format(len(midi_data.time_signature_changes)))\n",
    "print('There are {} instruments'.format(len(midi_data.instruments)))\n",
    "print('Instrument 0 ({inst}) has {} notes'.format(len(midi_data.instruments[0].notes), inst=midi_data.instruments[0].name))"
   ]
  },
  {
   "cell_type": "code",
   "execution_count": 11,
   "metadata": {},
   "outputs": [
    {
     "data": {
      "image/png": "[encoded data removed]",
      "text/plain": [
       "<Figure size 432x288 with 1 Axes>"
      ]
     },
     "metadata": {
      "needs_background": "light"
     },
     "output_type": "display_data"
    }
   ],
   "source": [
    "# Plot a pitch class distribution - sort of a proxy for key\n",
    "plt.bar(np.arange(12), midi_data.get_pitch_class_histogram());\n",
    "# plt.xticks(np.arange(12), ['C', '', 'D', '', 'E', 'F', '', 'G', '', 'A', '', 'B'])\n",
    "plt.xticks(np.arange(12), ['C', 'C#/Db', 'D', 'D#/Eb', 'E', 'F', 'F#/Gb', 'G', 'G#/Ab', 'A', 'A#/Bb', 'B'])\n",
    "plt.xlabel('Note')\n",
    "plt.ylabel('Proportion')\n",
    "plt.show()"
   ]
  },
  {
   "cell_type": "code",
   "execution_count": 12,
   "metadata": {},
   "outputs": [
    {
     "data": {
      "image/png": "[encoded data removed]",
      "text/plain": [
       "<Figure size 432x288 with 1 Axes>"
      ]
     },
     "metadata": {
      "needs_background": "light"
     },
     "output_type": "display_data"
    }
   ],
   "source": [
    "midi_data.get_onsets()\n",
    "# Plot the tempo changes over time\n",
    "# Many MIDI files won't have more than one tempo change event,\n",
    "# but this particular file was transcribed to somewhat closely match the original song.\n",
    "times, tempo_changes = midi_data.get_tempo_changes()\n",
    "plt.plot(times, tempo_changes, '.')\n",
    "plt.xlabel('Time')\n",
    "plt.ylabel('Tempo')\n",
    "plt.show()"
   ]
  },
  {
   "cell_type": "code",
   "execution_count": 16,
   "metadata": {},
   "outputs": [
    {
     "data": {
      "image/png": "[encoded data removed]",
      "text/plain": [
       "<Figure size 432x288 with 1 Axes>"
      ]
     },
     "metadata": {
      "needs_background": "light"
     },
     "output_type": "display_data"
    },
    {
     "data": {
      "image/png": "[encoded data removed]",
      "text/plain": [
       "<Figure size 432x288 with 1 Axes>"
      ]
     },
     "metadata": {
      "needs_background": "light"
     },
     "output_type": "display_data"
    }
   ],
   "source": [
    "plt.figure()\n",
    "plt.hist(all_notes[0], bins=128, color='green')\n",
    "plt.show()\n",
    "plt.figure()\n",
    "plt.hist(all_notes[1], bins=128, color='blue')\n",
    "plt.show()"
   ]
  },
  {
   "cell_type": "code",
   "execution_count": 32,
   "metadata": {},
   "outputs": [
    {
     "name": "stdout",
     "output_type": "stream",
     "text": [
      "Instrument(program=0, is_drum=False, name=\"Piano RH\")\n",
      "Instrument(program=0, is_drum=False, name=\"Piano LH\")\n",
      "Instrument(program=0, is_drum=False, name=\"Piano RH\")\n",
      "Instrument(program=0, is_drum=False, name=\"Piano LH\")\n",
      "********************\n",
      "E5\n",
      "Note(start=0.033333, end=0.225000, pitch=76, velocity=120)\n",
      "==========\n",
      "D#5\n",
      "Note(start=0.237500, end=0.433333, pitch=75, velocity=120)\n",
      "==========\n",
      "E5\n",
      "Note(start=0.433333, end=0.625000, pitch=76, velocity=120)\n",
      "==========\n",
      "D#5\n",
      "Note(start=0.637500, end=0.833333, pitch=75, velocity=120)\n",
      "==========\n",
      "E5\n",
      "Note(start=0.837500, end=1.033333, pitch=76, velocity=120)\n",
      "==========\n"
     ]
    }
   ],
   "source": [
    "midi_data = pm.PrettyMIDI('Fur Elise.mid')\n",
    "for instrument in midi_data.instruments:\n",
    "    print(instrument)\n",
    "\n",
    "instrument = midi_data.instruments[0]\n",
    "print(\"*\"*20)\n",
    "for note in instrument.notes[:5]:\n",
    "    print(\"{note}\".format(note=pm.note_number_to_name(note.pitch)))\n",
    "    print(note)\n",
    "    print(\"=\"*10)"
   ]
  }
 ],
 "metadata": {
  "kernelspec": {
   "display_name": "Python 3",
   "language": "python",
   "name": "python3"
  },
  "language_info": {
   "codemirror_mode": {
    "name": "ipython",
    "version": 3
   },
   "file_extension": ".py",
   "mimetype": "text/x-python",
   "name": "python",
   "nbconvert_exporter": "python",
   "pygments_lexer": "ipython3",
   "version": "3.7.4"
  }
 },
 "nbformat": 4,
 "nbformat_minor": 2
}
